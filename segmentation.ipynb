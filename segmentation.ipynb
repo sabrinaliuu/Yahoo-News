{
 "cells": [
  {
   "cell_type": "markdown",
   "id": "1f442c34-9eee-44a4-9b37-cdb907d74401",
   "metadata": {},
   "source": [
    "# Text segmentation example\n",
    "* reference: https://qiita.com/automation2025/items/7474deca81fd8f6cda07"
   ]
  },
  {
   "cell_type": "markdown",
   "id": "74ebf151-4175-4579-b858-f03dac666795",
   "metadata": {},
   "source": [
    "## Basic functions"
   ]
  },
  {
   "cell_type": "code",
   "execution_count": null,
   "id": "d9d0a809-349c-49c7-afc8-93c226470f12",
   "metadata": {},
   "outputs": [],
   "source": [
    "# pip install mecab\n",
    "# pip install unidic-lite"
   ]
  },
  {
   "cell_type": "code",
   "execution_count": 13,
   "id": "82c55a2d-968e-472a-bc0b-8ae247bcb2c4",
   "metadata": {},
   "outputs": [],
   "source": [
    "import pandas as pd\n",
    "import MeCab"
   ]
  },
  {
   "cell_type": "code",
   "execution_count": 15,
   "id": "0882b32f-7631-47c4-bae8-a742c9e3ac4f",
   "metadata": {},
   "outputs": [],
   "source": [
    "# build tagger object\n",
    "mecab = MeCab.Tagger() "
   ]
  },
  {
   "cell_type": "code",
   "execution_count": 17,
   "id": "ab4d445d-df50-47fc-a063-b30ef966e004",
   "metadata": {},
   "outputs": [],
   "source": [
    "text = \"黒島区長の川井さんは、修復に携わった人々への感謝とともに「神輿が帰ってきて町に元気が出て、祭りにたくさんの人が来ると期待しています」と思いを語りました。\""
   ]
  },
  {
   "cell_type": "code",
   "execution_count": 19,
   "id": "673933d3-604a-4958-b828-3f53e9e375d9",
   "metadata": {},
   "outputs": [
    {
     "name": "stdout",
     "output_type": "stream",
     "text": [
      "黒島\tクロシマ\tクロシマ\tクロシマ\t名詞-固有名詞-人名-姓\t\t\t0,2\n",
      "区長\tクチョー\tクチョウ\t区長\t名詞-普通名詞-一般\t\t\t1,2\n",
      "の\tノ\tノ\tの\t助詞-格助詞\t\t\t\n",
      "川井\tカワイ\tカワイ\tカワイ\t名詞-固有名詞-人名-姓\t\t\t0\n",
      "さん\tサン\tサン\tさん\t接尾辞-名詞的-一般\t\t\t\n",
      "は\tワ\tハ\tは\t助詞-係助詞\t\t\t\n",
      "、\t\t\t、\t補助記号-読点\t\t\t\n",
      "修復\tシューフク\tシュウフク\t修復\t名詞-普通名詞-サ変可能\t\t\t0\n",
      "に\tニ\tニ\tに\t助詞-格助詞\t\t\t\n",
      "携わっ\tタズサワッ\tタズサワル\t携わる\t動詞-一般\t五段-ラ行\t連用形-促音便\t4\n",
      "た\tタ\tタ\tた\t助動詞\t助動詞-タ\t連体形-一般\t\n",
      "人々\tヒトビト\tヒトビト\t人々\t名詞-普通名詞-一般\t\t\t2\n",
      "へ\tエ\tヘ\tへ\t助詞-格助詞\t\t\t\n",
      "の\tノ\tノ\tの\t助詞-格助詞\t\t\t\n",
      "感謝\tカンシャ\tカンシャ\t感謝\t名詞-普通名詞-サ変可能\t\t\t1\n",
      "と\tト\tト\tと\t助詞-格助詞\t\t\t\n",
      "とも\tトモ\tトモ\t共\t名詞-普通名詞-一般\t\t\t0,1\n",
      "に\tニ\tニ\tに\t助詞-格助詞\t\t\t\n",
      "「\t\t\t「\t補助記号-括弧開\t\t\t\n",
      "神輿\tミコシ\tミコシ\t御輿\t名詞-普通名詞-一般\t\t\t0,1\n",
      "が\tガ\tガ\tが\t助詞-格助詞\t\t\t\n",
      "帰っ\tカエッ\tカエル\t返る\t動詞-一般\t五段-ラ行\t連用形-促音便\t1\n",
      "て\tテ\tテ\tて\t助詞-接続助詞\t\t\t\n",
      "き\tキ\tクル\t来る\t動詞-非自立可能\tカ行変格\t連用形-一般\t1\n",
      "て\tテ\tテ\tて\t助詞-接続助詞\t\t\t\n",
      "町\tマチ\tマチ\t町\t名詞-普通名詞-一般\t\t\t2\n",
      "に\tニ\tニ\tに\t助詞-格助詞\t\t\t\n",
      "元気\tゲンキ\tゲンキ\t元気\t名詞-普通名詞-形状詞可能\t\t\t1\n",
      "が\tガ\tガ\tが\t助詞-格助詞\t\t\t\n",
      "出\tデ\tデル\t出る\t動詞-一般\t下一段-ダ行\t連用形-一般\t1\n",
      "て\tテ\tテ\tて\t助詞-接続助詞\t\t\t\n",
      "、\t\t\t、\t補助記号-読点\t\t\t\n",
      "祭り\tマツリ\tマツリ\t祭り\t名詞-普通名詞-一般\t\t\t0\n",
      "に\tニ\tニ\tに\t助詞-格助詞\t\t\t\n",
      "たくさん\tタクサン\tタクサン\t沢山\t形状詞-一般\t\t\t3\n",
      "の\tノ\tノ\tの\t助詞-格助詞\t\t\t\n",
      "人\tヒト\tヒト\t人\t名詞-普通名詞-一般\t\t\t0\n",
      "が\tガ\tガ\tが\t助詞-格助詞\t\t\t\n",
      "来る\tクル\tクル\t来る\t動詞-非自立可能\tカ行変格\t終止形-一般\t1\n",
      "と\tト\tト\tと\t助詞-接続助詞\t\t\t\n",
      "期待\tキタイ\tキタイ\t期待\t名詞-普通名詞-サ変可能\t\t\t0\n",
      "し\tシ\tスル\t為る\t動詞-非自立可能\tサ行変格\t連用形-一般\t0\n",
      "て\tテ\tテ\tて\t助詞-接続助詞\t\t\t\n",
      "い\tイ\tイル\t居る\t動詞-非自立可能\t上一段-ア行\t連用形-一般\t0\n",
      "ます\tマス\tマス\tます\t助動詞\t助動詞-マス\t終止形-一般\t\n",
      "」\t\t\t」\t補助記号-括弧閉\t\t\t\n",
      "と\tト\tト\tと\t助詞-格助詞\t\t\t\n",
      "思い\tオモイ\tオモイ\t思い\t名詞-普通名詞-一般\t\t\t2\n",
      "を\tオ\tヲ\tを\t助詞-格助詞\t\t\t\n",
      "語り\tカタリ\tカタル\t語る\t動詞-一般\t五段-ラ行\t連用形-一般\t0\n",
      "まし\tマシ\tマス\tます\t助動詞\t助動詞-マス\t連用形-一般\t\n",
      "た\tタ\tタ\tた\t助動詞\t助動詞-タ\t終止形-一般\t\n",
      "。\t\t\t。\t補助記号-句点\t\t\t\n",
      "EOS\n",
      "\n"
     ]
    }
   ],
   "source": [
    "result = mecab.parse(text)\n",
    "print(result)"
   ]
  },
  {
   "cell_type": "markdown",
   "id": "45999181-edd4-4415-a551-922538982401",
   "metadata": {},
   "source": [
    "### Segmentation"
   ]
  },
  {
   "cell_type": "code",
   "execution_count": 24,
   "id": "b0fc9e46-ee7a-4654-b339-248dc56b2906",
   "metadata": {},
   "outputs": [],
   "source": [
    "def tokenize(text):\n",
    "    nodes = mecab.parseToNode(text)\n",
    "    tokens = []\n",
    "    while nodes:\n",
    "        if nodes.surface != \"\":\n",
    "            tokens.append(nodes.surface)\n",
    "        nodes = nodes.next\n",
    "    return tokens"
   ]
  },
  {
   "cell_type": "code",
   "execution_count": 26,
   "id": "d78a8da6-a8cd-4ff1-b624-62fcbe135493",
   "metadata": {},
   "outputs": [
    {
     "name": "stdout",
     "output_type": "stream",
     "text": [
      "['黒島', '区長', 'の', '川井', 'さん', 'は', '、', '修復', 'に', '携わっ', 'た', '人々', 'へ', 'の', '感謝', 'と', 'とも', 'に', '「', '神輿', 'が', '帰っ', 'て', 'き', 'て', '町', 'に', '元気', 'が', '出', 'て', '、', '祭り', 'に', 'たくさん', 'の', '人', 'が', '来る', 'と', '期待', 'し', 'て', 'い', 'ます', '」', 'と', '思い', 'を', '語り', 'まし', 'た', '。']\n"
     ]
    }
   ],
   "source": [
    "tokens = tokenize(text)\n",
    "print(tokens)"
   ]
  },
  {
   "cell_type": "markdown",
   "id": "33a3934d-943d-4865-9d25-141c756e6211",
   "metadata": {},
   "source": [
    "### Segmentation with POS"
   ]
  },
  {
   "cell_type": "code",
   "execution_count": 29,
   "id": "e8a58870-791f-4d1a-8f5f-150433fef132",
   "metadata": {},
   "outputs": [],
   "source": [
    "def tokenize_with_pos(text):\n",
    "    nodes = mecab.parseToNode(text)\n",
    "    tokens = []\n",
    "    while nodes:\n",
    "        if nodes.surface != \"\":\n",
    "            tokens.append((nodes.surface, nodes.feature.split(',')[0]))\n",
    "        nodes = nodes.next\n",
    "    return tokens"
   ]
  },
  {
   "cell_type": "code",
   "execution_count": 31,
   "id": "7290cd3c-a52d-4e2e-bfef-5ccf6cb02773",
   "metadata": {},
   "outputs": [
    {
     "name": "stdout",
     "output_type": "stream",
     "text": [
      "[('黒島', '名詞'), ('区長', '名詞'), ('の', '助詞'), ('川井', '名詞'), ('さん', '接尾辞'), ('は', '助詞'), ('、', '補助記号'), ('修復', '名詞'), ('に', '助詞'), ('携わっ', '動詞'), ('た', '助動詞'), ('人々', '名詞'), ('へ', '助詞'), ('の', '助詞'), ('感謝', '名詞'), ('と', '助詞'), ('とも', '名詞'), ('に', '助詞'), ('「', '補助記号'), ('神輿', '名詞'), ('が', '助詞'), ('帰っ', '動詞'), ('て', '助詞'), ('き', '動詞'), ('て', '助詞'), ('町', '名詞'), ('に', '助詞'), ('元気', '名詞'), ('が', '助詞'), ('出', '動詞'), ('て', '助詞'), ('、', '補助記号'), ('祭り', '名詞'), ('に', '助詞'), ('たくさん', '形状詞'), ('の', '助詞'), ('人', '名詞'), ('が', '助詞'), ('来る', '動詞'), ('と', '助詞'), ('期待', '名詞'), ('し', '動詞'), ('て', '助詞'), ('い', '動詞'), ('ます', '助動詞'), ('」', '補助記号'), ('と', '助詞'), ('思い', '名詞'), ('を', '助詞'), ('語り', '動詞'), ('まし', '助動詞'), ('た', '助動詞'), ('。', '補助記号')]\n"
     ]
    }
   ],
   "source": [
    "tokens_with_pos = tokenize_with_pos(text)\n",
    "print(tokens_with_pos)"
   ]
  },
  {
   "cell_type": "markdown",
   "id": "fba64985-9225-475f-a8cf-468f425d42d9",
   "metadata": {},
   "source": [
    "## Examples for applications"
   ]
  },
  {
   "cell_type": "markdown",
   "id": "ee2dbbbd-7f22-47c9-8868-78213df40500",
   "metadata": {},
   "source": [
    "### Example 1: sentiment analysis"
   ]
  },
  {
   "cell_type": "code",
   "execution_count": 35,
   "id": "3d35aa0b-2941-4af2-99d9-388a00442e54",
   "metadata": {},
   "outputs": [],
   "source": [
    "sentiment_dict = {\n",
    "    \"楽しい\": 1, \"嬉しい\": 1, \"素晴らしい\": 2,\n",
    "    \"悲しい\": -1, \"辛い\": -1, \"最悪\": -2, \n",
    "    \"感謝\": 2, \"期待\": 1, \"元気\":1\n",
    "}\n",
    "\n",
    "def simple_sentiment_analysis(text):\n",
    "    tokens = tokenize(text)\n",
    "    score = sum(sentiment_dict.get(token, 0) for token in tokens)\n",
    "    return score\n"
   ]
  },
  {
   "cell_type": "code",
   "execution_count": 37,
   "id": "de04b584-7158-43c5-9b80-d5d58928c091",
   "metadata": {},
   "outputs": [
    {
     "name": "stdout",
     "output_type": "stream",
     "text": [
      "感情スコア: 4\n"
     ]
    }
   ],
   "source": [
    "sentiment_score = simple_sentiment_analysis(text)\n",
    "print(f\"感情スコア: {sentiment_score}\")"
   ]
  },
  {
   "cell_type": "markdown",
   "id": "5085c1fd-768e-4759-89b7-1ff0bce98079",
   "metadata": {},
   "source": [
    "### Example 2: calculate tf-idf"
   ]
  },
  {
   "cell_type": "code",
   "execution_count": 40,
   "id": "84ec9784-6fbc-415b-9e76-62c6f3923bae",
   "metadata": {},
   "outputs": [],
   "source": [
    "from sklearn.feature_extraction.text import TfidfVectorizer\n",
    "data = pd.read_csv(\"./output_split.csv\")\n",
    "docs = [para for para in data['para'] if '能登' in para or '復興' in para][:10]"
   ]
  },
  {
   "cell_type": "code",
   "execution_count": 42,
   "id": "d61b8fd3-2df8-4c5b-bca3-222d98a25217",
   "metadata": {},
   "outputs": [],
   "source": [
    "def tokenize_with_pos_tfidf(text, include_pos={'名詞', '動詞'}): # filter words by POS\n",
    "    node = mecab.parseToNode(text)\n",
    "    tokens = []\n",
    "    while node:\n",
    "        features = node.feature.split(',')\n",
    "        pos = features[0]\n",
    "        if pos in include_pos:\n",
    "            surface = node.surface\n",
    "            if surface:\n",
    "                tokens.append(surface)\n",
    "        node = node.next\n",
    "    return tokens"
   ]
  },
  {
   "cell_type": "code",
   "execution_count": 44,
   "id": "d9b08bca-bc56-4f9f-9a8f-9103dc9427e0",
   "metadata": {},
   "outputs": [
    {
     "name": "stdout",
     "output_type": "stream",
     "text": [
      "\n",
      "1 TF-IDF top 5:\n",
      "林家: 0.3281\n",
      "町: 0.2552\n",
      "夏: 0.1930\n",
      "開か: 0.1930\n",
      "一門: 0.1930\n",
      "\n",
      "2 TF-IDF top 5:\n",
      "役: 0.3720\n",
      "三平: 0.2767\n",
      "信連: 0.2480\n",
      "武者: 0.2480\n",
      "行列: 0.2480\n",
      "\n",
      "3 TF-IDF top 5:\n",
      "穴水: 0.2912\n",
      "町: 0.2589\n",
      "復興: 0.2325\n",
      "できる: 0.1958\n",
      "人: 0.1958\n",
      "\n",
      "4 TF-IDF top 5:\n",
      "隆起: 0.2828\n",
      "し: 0.1786\n",
      "発生: 0.1663\n",
      "もらおう: 0.1663\n",
      "計り知れ: 0.1663\n",
      "\n",
      "5 TF-IDF top 5:\n",
      "ボード: 0.3498\n",
      "理事: 0.1749\n",
      "でき: 0.1749\n",
      "法人: 0.1749\n",
      "杉野: 0.1749\n",
      "\n",
      "6 TF-IDF top 5:\n",
      "市: 0.2830\n",
      "大雨: 0.2636\n",
      "一部: 0.2241\n",
      "より: 0.2241\n",
      "国土: 0.2241\n",
      "\n",
      "7 TF-IDF top 5:\n",
      "工区: 0.6048\n",
      "市: 0.2164\n",
      "復旧: 0.2016\n",
      "トンネル: 0.2016\n",
      "浜: 0.2016\n",
      "\n",
      "8 TF-IDF top 5:\n",
      "土砂: 0.3591\n",
      "警戒: 0.3591\n",
      "災害: 0.3591\n",
      "い: 0.2374\n",
      "市: 0.1928\n",
      "\n",
      "9 TF-IDF top 5:\n",
      "雨: 0.3600\n",
      "1: 0.2117\n",
      "向かっ: 0.2117\n",
      "停滞: 0.2117\n",
      "ミリ: 0.2117\n",
      "\n",
      "10 TF-IDF top 5:\n",
      "市: 0.2726\n",
      "雨量: 0.2539\n",
      "規制: 0.2539\n",
      "達し: 0.2539\n",
      "より: 0.2158\n"
     ]
    }
   ],
   "source": [
    "tokenized_docs = [\" \".join(tokenize_with_pos_tfidf(doc)) for doc in docs]  # join back to paragraph\n",
    "\n",
    "# calculate tfidf\n",
    "vectorizer = TfidfVectorizer(token_pattern=r\"(?u)\\b\\w+\\b\") \n",
    "tfidf_matrix = vectorizer.fit_transform(tokenized_docs)\n",
    "tokens = vectorizer.get_feature_names_out()\n",
    "\n",
    "df_tfidf = pd.DataFrame(tfidf_matrix.toarray(), columns=tokens)\n",
    "#print(df_tfidf)\n",
    "\n",
    "# print\n",
    "for idx, row in df_tfidf.iterrows():\n",
    "    print(f\"\\n{idx+1} TF-IDF top 5:\")\n",
    "    top_words = row.sort_values(ascending=False).head(5)\n",
    "    for word, score in top_words.items():\n",
    "        if score > 0:\n",
    "            print(f\"{word}: {score:.4f}\")"
   ]
  }
 ],
 "metadata": {
  "kernelspec": {
   "display_name": "Python [conda env:base] *",
   "language": "python",
   "name": "conda-base-py"
  },
  "language_info": {
   "codemirror_mode": {
    "name": "ipython",
    "version": 3
   },
   "file_extension": ".py",
   "mimetype": "text/x-python",
   "name": "python",
   "nbconvert_exporter": "python",
   "pygments_lexer": "ipython3",
   "version": "3.12.4"
  }
 },
 "nbformat": 4,
 "nbformat_minor": 5
}
